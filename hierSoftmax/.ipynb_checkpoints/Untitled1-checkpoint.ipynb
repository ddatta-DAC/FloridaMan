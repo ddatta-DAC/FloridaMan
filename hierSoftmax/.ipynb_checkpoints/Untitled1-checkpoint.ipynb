{
 "cells": [
  {
   "cell_type": "code",
   "execution_count": 197,
   "metadata": {},
   "outputs": [],
   "source": [
    "import pandas as pd\n",
    "import pickle\n",
    "from dataclasses import dataclass, field\n",
    "from typing import Any\n",
    "from queue import PriorityQueue\n",
    "from collections import Counter\n",
    "from sys import path\n",
    "path.append('./..')\n",
    "\n",
    "\n",
    "@dataclass(order=True)\n",
    "class PrioritizedItem:\n",
    "    value: int\n",
    "    item: Any = field(compare=False)\n",
    "\n",
    "\n",
    "# read corpus\n",
    "def read_in_corpus(corpus_file=None):\n",
    "    if corpus_file is None:\n",
    "        corpus_file = './../data_preprocess/sentence_withIds.pkl'\n",
    "    with open(corpus_file, 'rb') as fh:\n",
    "        corpus = pickle.load(fh)\n",
    "    all_sent = []\n",
    "\n",
    "    for s in corpus:\n",
    "        all_sent.extend(s)\n",
    "    counter = Counter(all_sent)\n",
    "\n",
    "    data = ((i, j) for i, j in zip(counter.keys(), counter.values()))\n",
    "    corpus_df = pd.DataFrame(data, columns=['token', 'count'])\n",
    "    corpus_df = corpus_df.sort_values(by=['count'], ascending=False)\n",
    "    return corpus_df.reset_index(drop=True)\n",
    "\n",
    "\n",
    "# Create huffman tree\n",
    "class leaf_node:\n",
    "    def __init__(self, token, freq):\n",
    "        self.token = token\n",
    "        self.path = ''\n",
    "        self.is_leaf = True\n",
    "        self.freq = freq\n",
    "\n",
    "\n",
    "class node:\n",
    "    def __init__(self, freq):\n",
    "        self.path = ''\n",
    "        self.is_leaf = False\n",
    "        self.left = None\n",
    "        self.right = None\n",
    "        # frequency\n",
    "        self.freq = freq\n",
    "\n",
    "\n",
    "def create_huffman_tree(corpus_file=None):\n",
    "    corpus_df = read_in_corpus(corpus_file)\n",
    "    # Create a node for each token\n",
    "    # Insert into the Queue\n",
    "    Q = PriorityQueue()\n",
    "\n",
    "    for i, row in corpus_df.iterrows():\n",
    "        token = row['token']\n",
    "        freq = row['count']\n",
    "        obj = leaf_node(\n",
    "            token,\n",
    "            freq\n",
    "        )\n",
    "\n",
    "        PI_obj = PrioritizedItem(freq, obj)\n",
    "        Q.put(PI_obj)\n",
    "\n",
    "    root = None\n",
    "    while Q.empty() is False:\n",
    "        dq1 = Q.get()\n",
    "\n",
    "        if Q.empty():\n",
    "            root = dq1.item\n",
    "            break\n",
    "\n",
    "        dq2 = Q.get()\n",
    "        f = dq1.item.freq + dq2.item.freq\n",
    "\n",
    "        n = node(f)\n",
    "        n.left = dq2.item\n",
    "        n.right = dq1.item\n",
    "        PI_obj = PrioritizedItem(f, n)\n",
    "        Q.put(PI_obj)\n",
    "\n",
    "    # Traverse the tree and assign paths\n",
    "    start = ''\n",
    "\n",
    "    def traverse(cur_node, _path):\n",
    "        if cur_node is None : return\n",
    "        cur_node.path = _path\n",
    "        if cur_node.is_leaf: return \n",
    "        traverse(cur_node.left, _path + '0')\n",
    "        traverse(cur_node.right, _path + '1')\n",
    "        return\n",
    "\n",
    "    traverse(root, start)\n",
    "    return root\n",
    "\n",
    "\n",
    "tree = create_huffman_tree()\n"
   ]
  },
  {
   "cell_type": "code",
   "execution_count": 198,
   "metadata": {},
   "outputs": [],
   "source": [
    "def get_token2path_dict(tree):\n",
    "    cur = tree\n",
    "    _dict = {}\n",
    "    \n",
    "    def traverse(cur_node):\n",
    "        if cur_node is None : \n",
    "            return _dict\n",
    "        \n",
    "        if cur_node.is_leaf: \n",
    "            _dict[cur_node.token] = cur_node.path\n",
    "            return _dict\n",
    "        traverse(cur_node.left)\n",
    "        traverse(cur_node.right)\n",
    "        return _dict\n",
    "    _dict = traverse(tree)\n",
    "    return _dict\n",
    "\n"
   ]
  },
  {
   "cell_type": "code",
   "execution_count": 199,
   "metadata": {},
   "outputs": [],
   "source": [
    "token2path_dict = get_token2path_dict(tree)"
   ]
  },
  {
   "cell_type": "code",
   "execution_count": 200,
   "metadata": {},
   "outputs": [
    {
     "data": {
      "text/plain": [
       "19"
      ]
     },
     "execution_count": 200,
     "metadata": {},
     "output_type": "execute_result"
    }
   ],
   "source": [
    "max([len(_) for _ in token2path_dict.values()])"
   ]
  },
  {
   "cell_type": "code",
   "execution_count": 203,
   "metadata": {},
   "outputs": [
    {
     "data": {
      "text/plain": [
       "31759"
      ]
     },
     "execution_count": 203,
     "metadata": {},
     "output_type": "execute_result"
    }
   ],
   "source": [
    "tree.left.left.left.right.freq"
   ]
  },
  {
   "cell_type": "code",
   "execution_count": null,
   "metadata": {},
   "outputs": [],
   "source": []
  }
 ],
 "metadata": {
  "kernelspec": {
   "display_name": "Python 3",
   "language": "python",
   "name": "python3"
  },
  "language_info": {
   "codemirror_mode": {
    "name": "ipython",
    "version": 3
   },
   "file_extension": ".py",
   "mimetype": "text/x-python",
   "name": "python",
   "nbconvert_exporter": "python",
   "pygments_lexer": "ipython3",
   "version": "3.7.7"
  }
 },
 "nbformat": 4,
 "nbformat_minor": 4
}
